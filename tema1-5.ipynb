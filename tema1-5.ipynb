{
 "cells": [
  {
   "cell_type": "code",
   "execution_count": 1,
   "id": "fffe9745",
   "metadata": {},
   "outputs": [
    {
     "ename": "NameError",
     "evalue": "name 'c' is not defined",
     "output_type": "error",
     "traceback": [
      "\u001b[0;31m---------------------------------------------------------------------------\u001b[0m",
      "\u001b[0;31mNameError\u001b[0m                                 Traceback (most recent call last)",
      "Cell \u001b[0;32mIn[1], line 5\u001b[0m\n\u001b[1;32m      3\u001b[0m a \u001b[39m=\u001b[39m \u001b[39m10\u001b[39m\n\u001b[1;32m      4\u001b[0m b \u001b[39m=\u001b[39m \u001b[39m0\u001b[39m\n\u001b[0;32m----> 5\u001b[0m c \u001b[39m=\u001b[39m a\u001b[39m/\u001b[39mc\n\u001b[1;32m      6\u001b[0m \u001b[39mprint\u001b[39m(\u001b[39m\"\u001b[39m\u001b[39ma/b= \u001b[39m\u001b[39m%d\u001b[39;00m\u001b[39m\"\u001b[39m \u001b[39m%\u001b[39m c)\n",
      "\u001b[0;31mNameError\u001b[0m: name 'c' is not defined"
     ]
    }
   ],
   "source": [
    "# 1.Para el siguientes ejemplo, proporcione la(s) excepción(es) adecuada(s):\n",
    "\n",
    "a = 10\n",
    "b = 0\n",
    "c = a/c\n",
    "print(\"a/b= %d\" % c)"
   ]
  },
  {
   "cell_type": "code",
   "execution_count": null,
   "id": "c4c11d4c",
   "metadata": {},
   "outputs": [
    {
     "name": "stdout",
     "output_type": "stream",
     "text": [
      "Error: división por cero\n"
     ]
    }
   ],
   "source": [
    "a = 10\n",
    "b = 0\n",
    "try:\n",
    "    c = a/b\n",
    "except ZeroDivisionError:\n",
    "    print(\"Error: división por cero\")\n",
    "else:\n",
    "    print(\"a/b= %f\" % c)\n"
   ]
  },
  {
   "cell_type": "code",
   "execution_count": null,
   "id": "abd97c57",
   "metadata": {},
   "outputs": [
    {
     "name": "stdout",
     "output_type": "stream",
     "text": [
      "Ingrese el valor de a: 87\n",
      "Ingrese el valor de b: 0\n",
      "Error: No se puede dividir entre cero.\n"
     ]
    }
   ],
   "source": [
    "#2. Con el ejercicio anterior, cree un programa que le pida ingresar los valores al usuario.\n",
    "\n",
    "try:\n",
    "    a = int(input(\"Ingrese el valor de a: \"))\n",
    "    b = int(input(\"Ingrese el valor de b: \"))\n",
    "    c = a/b\n",
    "    print(\"a/b= %d\" % c)\n",
    "except ValueError:\n",
    "    print(\"Error: Debe ingresar valores numéricos.\")\n",
    "except ZeroDivisionError:\n",
    "    print(\"Error: No se puede dividir entre cero.\")\n"
   ]
  },
  {
   "cell_type": "code",
   "execution_count": null,
   "id": "f8cb6590",
   "metadata": {},
   "outputs": [
    {
     "name": "stdout",
     "output_type": "stream",
     "text": [
      "Ingrese el monto: 10000000\n",
      "Ingrese el número de años: 3\n",
      "Ingrese la tasa de interés (%): 109\n",
      "Error: La tasa no puede ser superior al 100%.\n"
     ]
    }
   ],
   "source": [
    "#3. Cree una función de interés simple, entregando una excepción si la tasa es superior a 100.\n",
    "\n",
    "    #● El programa debe recibir: monto, año y tasa.\n",
    "    #● El cálculo de i nt er és será: (monto * año * tasa) / 100\n",
    "    #● Agregue mensajes adecuados al contexto, para la interacción del programa.\n",
    "\n",
    "def interes_simple(monto, año, tasa):\n",
    "    if tasa > 100:\n",
    "        raise ValueError(\"La tasa no puede ser superior al 100%.\")\n",
    "    else:\n",
    "        interes = (monto * año * tasa) / 100\n",
    "        return interes\n",
    "try:\n",
    "    monto = float(input(\"Ingrese el monto: \")) # El monto del préstamo o inversión\n",
    "    año = int(input(\"Ingrese el número de años: \")) # Número de años que el monto está siendo prestado o invertido\n",
    "    tasa = float(input(\"Ingrese la tasa de interés (%): \")) # La tasa de interés en porcentaje \n",
    "    \n",
    "    interes = interes_simple(monto, año, tasa)\n",
    "    \n",
    "    print(f\"El interés simple es: {interes:.2f}\")\n",
    "    \n",
    "except ValueError as error:\n",
    "    print(f\"Error: {error}\")\n"
   ]
  },
  {
   "cell_type": "code",
   "execution_count": null,
   "id": "dbc296af",
   "metadata": {},
   "outputs": [],
   "source": [
    "¿Cómo manejar las excepciones usando las sentencias try, except y finalmente?\n",
    "\n",
    "Para el manejo de excepciones los lenguajes proveen ciertas palabras\n",
    "reservadas, que nos permiten manejar las excepciones que puedan surgir\n",
    "y tomar acciones de recuperación para evitar la interrupción del\n",
    "programa o, al menos, para realizar algunas acciones adicionales antes de\n",
    "interrumpir el programa.\n",
    "En el caso de Python, el manejo de excepciones se hace mediante los\n",
    "bloques que utilizan las sentencias try, except y finally.\n",
    "Dentro del bloque try se ubica todo el código que pueda llegar a levantar\n",
    "una excepción, se utiliza el término levantar para referirse a la acción de\n",
    "generar una excepción.\n",
    "\n",
    "El bloque try contiene el código que puede generar una excepción. Si se genera una excepción, se ejecutará el bloque\n",
    "de código correspondiente a la excepción específica que se haya generado. Si no hay ninguna excepción, se saltarán \n",
    "los bloques excepty se ejecutará el bloque finally.\n",
    "La sentencia finallyes opcional, pero se utiliza generalmente para realizar alguna limpieza o liberación de \n",
    "recursos que se hayan utilizado en el bloque try, independientemente de si se ha generado una excepción o no.\n",
    "En cuanto a cómo generar excepciones en Python, se puede utilizar la sentencia raise. \n",
    "\n",
    "¿Cómo generar excepciones?\n",
    "\n",
    "Los errores de ejecución son llamados comúnmente excepciones y por\n",
    "eso de ahora en más utilizaremos ese nombre. Durante la ejecución de un\n",
    "programa, si dentro de una función surge una excepción y la función no\n",
    "la maneja, la excepción se propaga hacia la función que la invocó, si esta\n",
    "otra tampoco la maneja, la excepción continúa propagándose hasta llegar\n",
    "a la función inicial del programa y si esta tampoco la maneja se\n",
    "interrumpe la ejecución del programa. Veamos entonces cómo manejar\n",
    "excepciones."
   ]
  },
  {
   "cell_type": "code",
   "execution_count": null,
   "id": "45c68f2f",
   "metadata": {},
   "outputs": [],
   "source": []
  }
 ],
 "metadata": {
  "kernelspec": {
   "display_name": "Python 3 (ipykernel)",
   "language": "python",
   "name": "python3"
  },
  "language_info": {
   "codemirror_mode": {
    "name": "ipython",
    "version": 3
   },
   "file_extension": ".py",
   "mimetype": "text/x-python",
   "name": "python",
   "nbconvert_exporter": "python",
   "pygments_lexer": "ipython3",
   "version": "3.10.9"
  }
 },
 "nbformat": 4,
 "nbformat_minor": 5
}
